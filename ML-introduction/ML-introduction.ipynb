{
 "cells": [
  {
   "cell_type": "markdown",
   "metadata": {},
   "source": [
    "# Introduction to Machine Learning"
   ]
  },
  {
   "cell_type": "markdown",
   "metadata": {},
   "source": [
    "## Summary\n",
    "\n",
    "### This course provides an overview of machine learning fundamentals on modern Intel® architecture. Topics covered include:\n",
    "\n",
    "* Reviewing the types of problems that can be solved\n",
    "* Understanding building blocks\n",
    "* Learning the fundamentals of building models in machine learning\n",
    "* Exploring key algorithms\n",
    "\n",
    "### By the end of this course, students will have practical knowledge of:\n",
    "\n",
    "* Supervised learning algorithms\n",
    "* Key concepts like under- and over-fitting, regularization, and cross-validation\n",
    "* How to identify the type of problem to be solved, choose the right algorithm, tune parameters, and validate a model\n",
    "\n",
    "The course is structured around 12 weeks of lectures and exercises. Each week requires three hours to complete. \n",
    "\n",
    "The exercises are implemented in Python*, so familiarity with the language is encouraged (you can learn along the way).\n"
   ]
  },
  {
   "cell_type": "markdown",
   "metadata": {},
   "source": [
    "## Prerequisites\n",
    "\n",
    "* Python* programming\n",
    "* Calculus\n",
    "* Linear algebra\n",
    "* Statistics"
   ]
  },
  {
   "cell_type": "markdown",
   "metadata": {},
   "source": [
    "## Week 1\n",
    "\n",
    "<div class=\"warning\" style='background-color:#EDF2F7; color:#1A2067; border-left: solid #718096 4px; border-radius: 4px;'>\n",
    "<p style='padding:0.7em; margin-left:0.7em; display: inline-block;'>\n",
    "<img src=\"assets/week01.png\" style=\"zoom:70%;  float:right; padding:0.7em\"/>\n",
    "<b>This class introduces the basic data science toolset: </b>\n",
    "<br>\n",
    "<br>&bull; Jupyter Notebook for interactive coding \n",
    "<br>&bull; NumPy, SciPy, and pandas for numerical computation \n",
    "<br>&bull; Matplotlib and seaborn for data visualization\n",
    "<br>&bull; Scikit-learn for machine-learning libraries \n",
    "<br><br>You’ll use these tools to work through the exercises each week.<br>\n",
    "</p>\n",
    "</div>\n",
    "\n",
    "<p style=\"color:red;\">To download all the necessary material, run the cell below and click the button if needed.</p>"
   ]
  },
  {
   "cell_type": "code",
   "execution_count": 1,
   "metadata": {},
   "outputs": [
    {
     "data": {
      "application/vnd.jupyter.widget-view+json": {
       "model_id": "b610cf0d85f544cbbbd0c31e8b5058d4",
       "version_major": 2,
       "version_minor": 0
      },
      "text/plain": [
       "Button(description='Download', style=ButtonStyle())"
      ]
     },
     "metadata": {},
     "output_type": "display_data"
    },
    {
     "data": {
      "application/vnd.jupyter.widget-view+json": {
       "model_id": "60974d3c0474452fba442c13967e91f6",
       "version_major": 2,
       "version_minor": 0
      },
      "text/plain": [
       "Output()"
      ]
     },
     "metadata": {},
     "output_type": "display_data"
    }
   ],
   "source": [
    "%run download.py 1"
   ]
  },
  {
   "cell_type": "markdown",
   "metadata": {},
   "source": [
    "## Week 2\n",
    "\n",
    "<div class=\"warning\" style='background-color:#EDF2F7; color:#1A2067; border-left: solid  #718096 4px; border-radius: 4px;'>\n",
    "<p style='padding:0.7em; margin-left:0.7em; display: inline-block;'>\n",
    "<img src=\"assets/week02.png\" style=\"zoom:70%;  float:right; padding:0.7em\"/>\n",
    "<b>This class introduces the basic concepts and vocabulary of machine learning: </b>\n",
    "<br>\n",
    "<br>&bull; Supervised learning and how it can be applied to regression and classification problems \n",
    "<br>&bull; K-Nearest Neighbor (KNN) algorithm for classification\n",
    "</p>\n",
    "</div>\n",
    "\n",
    "<p style=\"color:red;\">To download all the necessary material, run the cell below and click the button if needed.</p>"
   ]
  },
  {
   "cell_type": "code",
   "execution_count": 2,
   "metadata": {},
   "outputs": [
    {
     "data": {
      "application/vnd.jupyter.widget-view+json": {
       "model_id": "3e9bd15aeffc4307a4578c29d3a1dd7c",
       "version_major": 2,
       "version_minor": 0
      },
      "text/plain": [
       "Button(description='Download', style=ButtonStyle())"
      ]
     },
     "metadata": {},
     "output_type": "display_data"
    },
    {
     "data": {
      "application/vnd.jupyter.widget-view+json": {
       "model_id": "85239625c1b14fb888830d590a162270",
       "version_major": 2,
       "version_minor": 0
      },
      "text/plain": [
       "Output()"
      ]
     },
     "metadata": {},
     "output_type": "display_data"
    }
   ],
   "source": [
    "%run download.py 2"
   ]
  },
  {
   "cell_type": "markdown",
   "metadata": {},
   "source": [
    "## Week 3\n",
    "\n",
    "<div class=\"warning\" style='background-color:#EDF2F7; color:#1A2067; border-left: solid #718096 4px; border-radius: 4px;'>\n",
    "<p style='padding:0.7em; margin-left:0.7em; display: inline-block;'>\n",
    "<img src=\"assets/week03.png\" style=\"zoom:70%;  float:right; padding:0.7em\"/>\n",
    "<b>This class reviews the principles of core model generalization:</b>\n",
    "<br>\n",
    "<br>&bull; The difference between over-fitting and under-fitting a model \n",
    "<br>&bull; Bias-variance trade-offs\n",
    "<br>&bull; Finding the optimal training and test dataset splits, cross-validation, and model complexity versus error\n",
    "<br>&bull; Introduction to the linear regression model for supervised learning\n",
    "</p>\n",
    "</div>\n",
    "\n",
    "<p style=\"color:red;\">To download all the necessary material, run the cell below and click the button if needed.</p>"
   ]
  },
  {
   "cell_type": "code",
   "execution_count": 3,
   "metadata": {},
   "outputs": [
    {
     "data": {
      "application/vnd.jupyter.widget-view+json": {
       "model_id": "313ad2a3cab241ecad451e84de208d6a",
       "version_major": 2,
       "version_minor": 0
      },
      "text/plain": [
       "Button(description='Download', style=ButtonStyle())"
      ]
     },
     "metadata": {},
     "output_type": "display_data"
    },
    {
     "data": {
      "application/vnd.jupyter.widget-view+json": {
       "model_id": "696770e1bf0b46b3a3efccbf5b0a4330",
       "version_major": 2,
       "version_minor": 0
      },
      "text/plain": [
       "Output()"
      ]
     },
     "metadata": {},
     "output_type": "display_data"
    }
   ],
   "source": [
    "%run download.py 3"
   ]
  },
  {
   "cell_type": "markdown",
   "metadata": {},
   "source": [
    "## Week 4\n",
    "\n",
    "<div class=\"warning\" style='background-color:#EDF2F7; color:#1A2067; border-left: solid #718096 4px; border-radius: 4px;'>\n",
    "<p style='padding:0.7em; margin-left:0.7em; display: inline-block;'>\n",
    "<img src=\"assets/week04.png\" style=\"zoom:70%;  float:right; padding:0.7em\"/>\n",
    "<b>This class builds on concepts taught in previous weeks. Additionally you will:</b>\n",
    "<br>\n",
    "<br>&bull; Learn about cost functions, regularization, feature selection, and hyper-parameters \n",
    "<br>&bull; Understand more complex statistical optimization algorithms like gradient descent and its application to linear regression\n",
    "</p>\n",
    "</div>\n",
    "\n",
    "<p style=\"color:red;\">To download all the necessary material, run the cell below and click the button if needed.</p>"
   ]
  },
  {
   "cell_type": "code",
   "execution_count": 4,
   "metadata": {},
   "outputs": [
    {
     "data": {
      "application/vnd.jupyter.widget-view+json": {
       "model_id": "fd2f440e09954014b04bebb01484736c",
       "version_major": 2,
       "version_minor": 0
      },
      "text/plain": [
       "Button(description='Download', style=ButtonStyle())"
      ]
     },
     "metadata": {},
     "output_type": "display_data"
    },
    {
     "data": {
      "application/vnd.jupyter.widget-view+json": {
       "model_id": "5275c9340e204fd0abaaf73aaf045e20",
       "version_major": 2,
       "version_minor": 0
      },
      "text/plain": [
       "Output()"
      ]
     },
     "metadata": {},
     "output_type": "display_data"
    }
   ],
   "source": [
    "%run download.py 4"
   ]
  },
  {
   "cell_type": "markdown",
   "metadata": {},
   "source": [
    "## Week 5\n",
    "\n",
    "<div class=\"warning\" style='background-color:#EDF2F7; color:#1A2067; border-left: solid #718096 4px; border-radius: 4px;'>\n",
    "<p style='padding:0.7em; margin-left:0.7em; display: inline-block;'>\n",
    "<img src=\"assets/week05.png\" style=\"zoom:70%;  float:right; padding:0.7em\"/>\n",
    "<b>This class discusses the following:</b>\n",
    "<br>\n",
    "<br>&bull; Logistic regression and how it differs from linear regression \n",
    "<br>&bull; Metrics for classification errors and scenarios in which they can be used\n",
    "</p>\n",
    "</div>\n",
    "\n",
    "<p style=\"color:red;\">To download all the necessary material, run the cell below and click the button if needed.</p>"
   ]
  },
  {
   "cell_type": "code",
   "execution_count": 5,
   "metadata": {},
   "outputs": [
    {
     "data": {
      "application/vnd.jupyter.widget-view+json": {
       "model_id": "fc80ff4863b14fe58aeafc855018ca05",
       "version_major": 2,
       "version_minor": 0
      },
      "text/plain": [
       "Button(description='Download', style=ButtonStyle())"
      ]
     },
     "metadata": {},
     "output_type": "display_data"
    },
    {
     "data": {
      "application/vnd.jupyter.widget-view+json": {
       "model_id": "f940774db1e54301b1b81a25f86173fe",
       "version_major": 2,
       "version_minor": 0
      },
      "text/plain": [
       "Output()"
      ]
     },
     "metadata": {},
     "output_type": "display_data"
    }
   ],
   "source": [
    "%run download.py 5"
   ]
  },
  {
   "cell_type": "markdown",
   "metadata": {},
   "source": [
    "## Week 6\n",
    "\n",
    "<div class=\"warning\" style='background-color:#EDF2F7; color:#1A2067; border-left: solid #718096 4px; border-radius: 4px;'>\n",
    "<p style='padding:0.7em; margin-left:0.7em; display: inline-block;'>\n",
    "<img src=\"assets/week06.png\" style=\"zoom:70%;  float:right; padding:0.7em\"/>\n",
    "<b>During this session, we review:</b>\n",
    "<br>\n",
    "<br>&bull; The basics of probability theory and its application to the Naïve Bayes classifier \n",
    "<br>&bull; The different types of Naïve Bayes classifiers and how to train a model using this algorithm\n",
    "</p>\n",
    "</div>\n",
    "\n",
    "<p style=\"color:red;\">To download all the necessary material, run the cell below and click the button if needed.</p>"
   ]
  },
  {
   "cell_type": "code",
   "execution_count": 6,
   "metadata": {},
   "outputs": [
    {
     "data": {
      "application/vnd.jupyter.widget-view+json": {
       "model_id": "233008a83e244a908da186a7e0807ea6",
       "version_major": 2,
       "version_minor": 0
      },
      "text/plain": [
       "Button(description='Download', style=ButtonStyle())"
      ]
     },
     "metadata": {},
     "output_type": "display_data"
    },
    {
     "data": {
      "application/vnd.jupyter.widget-view+json": {
       "model_id": "1d27d94549734c1eb38fdb93c2f67306",
       "version_major": 2,
       "version_minor": 0
      },
      "text/plain": [
       "Output()"
      ]
     },
     "metadata": {},
     "output_type": "display_data"
    }
   ],
   "source": [
    "%run download.py 6"
   ]
  },
  {
   "cell_type": "markdown",
   "metadata": {},
   "source": [
    "## Week 7\n",
    "\n",
    "<div class=\"warning\" style='background-color:#EDF2F7; color:#1A2067; border-left: solid #718096 4px; border-radius: 4px;'>\n",
    "<p style='padding:0.7em; margin-left:0.7em; display: inline-block;'>\n",
    "<img src=\"assets/week07.png\" style=\"zoom:70%;  float:right; padding:0.7em; \"/>\n",
    "<b>This week covers the following topics:</b>\n",
    "<br>\n",
    "<br>&bull; Support vector machines (SVMs) — a popular algorithm used for classification problems \n",
    "<br>&bull; Examples to learn SVM similarity to logistic regression\n",
    "<br>&bull; How to calculate the cost function of SVMs\n",
    "<br>&bull; Regularization in SVMs and some tips to obtain nonlinear classifications with SVMs\n",
    "</p>\n",
    "</div>\n",
    "\n",
    "<p style=\"color:red;\">To download all the necessary material, run the cell below and click the button if needed.</p>"
   ]
  },
  {
   "cell_type": "code",
   "execution_count": 7,
   "metadata": {},
   "outputs": [
    {
     "data": {
      "application/vnd.jupyter.widget-view+json": {
       "model_id": "e5004a3b7a84464cbd4f4d8f95260d80",
       "version_major": 2,
       "version_minor": 0
      },
      "text/plain": [
       "Button(description='Download', style=ButtonStyle())"
      ]
     },
     "metadata": {},
     "output_type": "display_data"
    },
    {
     "data": {
      "application/vnd.jupyter.widget-view+json": {
       "model_id": "95be626c43c042ecadad59c463fdccd2",
       "version_major": 2,
       "version_minor": 0
      },
      "text/plain": [
       "Output()"
      ]
     },
     "metadata": {},
     "output_type": "display_data"
    }
   ],
   "source": [
    "%run download.py 7"
   ]
  },
  {
   "cell_type": "markdown",
   "metadata": {},
   "source": [
    "## Week 8\n",
    "\n",
    "<div class=\"warning\" style='background-color:#EDF2F7; color:#1A2067; border-left: solid #718096 4px; border-radius: 4px;'>\n",
    "<p style='padding:0.7em; margin-left:0.7em; display: inline-block;'>\n",
    "<img src=\"assets/week08.png\" style=\"zoom:70%;  float:right; padding:0.7em\"/>\n",
    "<b>Continuing with the topic of advanced supervised learning algorithms, this class covers:</b>\n",
    "<br>\n",
    "<br>&bull; Decision trees and how to use them for classification problems \n",
    "<br>&bull; How to identify the best split and the factors for splitting\n",
    "<br>&bull; Strengths and weaknesses of decision trees\n",
    "<br>&bull; Regression trees that help with classifying continuous values\n",
    "</p>\n",
    "</div>\n",
    "\n",
    "<p style=\"color:red;\">To download all the necessary material, run the cell below and click the button if needed.</p>"
   ]
  },
  {
   "cell_type": "code",
   "execution_count": 8,
   "metadata": {},
   "outputs": [
    {
     "data": {
      "application/vnd.jupyter.widget-view+json": {
       "model_id": "9e699cb4d2494c0884ec0ffe59da2508",
       "version_major": 2,
       "version_minor": 0
      },
      "text/plain": [
       "Button(description='Download', style=ButtonStyle())"
      ]
     },
     "metadata": {},
     "output_type": "display_data"
    },
    {
     "data": {
      "application/vnd.jupyter.widget-view+json": {
       "model_id": "9d98406060e24195b3cb932b2ad05d0d",
       "version_major": 2,
       "version_minor": 0
      },
      "text/plain": [
       "Output()"
      ]
     },
     "metadata": {},
     "output_type": "display_data"
    }
   ],
   "source": [
    "%run download.py 8"
   ]
  },
  {
   "cell_type": "markdown",
   "metadata": {},
   "source": [
    "## Week 9\n",
    "\n",
    "<div class=\"warning\" style='background-color:#EDF2F7; color:#1A2067; border-left: solid #718096 4px; border-radius: 4px;'>\n",
    "<p style='padding:0.7em; margin-left:0.7em; display: inline-block;'>\n",
    "<img src=\"assets/week09.png\" style=\"zoom:70%;  float:right; padding:0.7em\"/>\n",
    "<b>Following on what was learned in Week 8, this class teaches:</b>\n",
    "<br>\n",
    "<br>&bull; The concepts of bootstrapping and aggregating (commonly known as “bagging”) to reduce variance\n",
    "<br>&bull; The Random Forest algorithm that further reduces the correlation seen in bagging models\n",
    "</p>\n",
    "</div>\n",
    "\n",
    "<p style=\"color:red;\">To download all the necessary material, run the cell below and click the button if needed.</p>"
   ]
  },
  {
   "cell_type": "code",
   "execution_count": 9,
   "metadata": {},
   "outputs": [
    {
     "data": {
      "application/vnd.jupyter.widget-view+json": {
       "model_id": "b8c347d4253846ce965dc5e262348196",
       "version_major": 2,
       "version_minor": 0
      },
      "text/plain": [
       "Button(description='Download', style=ButtonStyle())"
      ]
     },
     "metadata": {},
     "output_type": "display_data"
    },
    {
     "data": {
      "application/vnd.jupyter.widget-view+json": {
       "model_id": "c7e27b31458245d8b51f92a7c2fbb5d9",
       "version_major": 2,
       "version_minor": 0
      },
      "text/plain": [
       "Output()"
      ]
     },
     "metadata": {},
     "output_type": "display_data"
    }
   ],
   "source": [
    "%run download.py 9"
   ]
  },
  {
   "cell_type": "markdown",
   "metadata": {},
   "source": [
    "## Week 10\n",
    "\n",
    "<div class=\"warning\" style='background-color:#EDF2F7; color:#1A2067; border-left: solid #718096 4px; border-radius: 4px;'>\n",
    "<p style='padding:0.7em; margin-left:0.7em; display: inline-block;'>\n",
    "<img src=\"assets/week10.png\" style=\"zoom:70%;  float:right; padding:0.7em\"/>\n",
    "<b>This week, learn about the boosting algorithm that helps reduce variance and bias.</b>\n",
    "<br>\n",
    "</p>\n",
    "</div>\n",
    "\n",
    "<p style=\"color:red;\">To download all the necessary material, run the cell below and click the button if needed.</p>"
   ]
  },
  {
   "cell_type": "code",
   "execution_count": 10,
   "metadata": {},
   "outputs": [
    {
     "data": {
      "application/vnd.jupyter.widget-view+json": {
       "model_id": "0ff62addb0b443aeb54627f47f95f1ee",
       "version_major": 2,
       "version_minor": 0
      },
      "text/plain": [
       "Button(description='Download', style=ButtonStyle())"
      ]
     },
     "metadata": {},
     "output_type": "display_data"
    },
    {
     "data": {
      "application/vnd.jupyter.widget-view+json": {
       "model_id": "8c88a5a0f5ac45a6905f998bef178634",
       "version_major": 2,
       "version_minor": 0
      },
      "text/plain": [
       "Output()"
      ]
     },
     "metadata": {},
     "output_type": "display_data"
    }
   ],
   "source": [
    "%run download.py 10"
   ]
  },
  {
   "cell_type": "markdown",
   "metadata": {},
   "source": [
    "## Week 11\n",
    "\n",
    "<div class=\"warning\" style='background-color:#EDF2F7; color:#1A2067; border-left: solid #718096 4px; border-radius: 4px;'>\n",
    "<p style='padding:0.7em; margin-left:0.7em; display: inline-block;'>\n",
    "<img src=\"assets/week11.png\" style=\"zoom:70%;  float:right; padding:0.7em\"/>\n",
    "<br>So far, the course has been heavily focused on supervised learning algorithms.\n",
    "<br>\n",
    "<br>\n",
    "<b>This week, learn about unsupervised learning algorithms and how they can be applied to clustering and dimensionality reduction problems.</b>\n",
    "<br>\n",
    "</p>\n",
    "</div>\n",
    "\n",
    "<p style=\"color:red;\">To download all the necessary material, run the cell below and click the button if needed.</p>"
   ]
  },
  {
   "cell_type": "code",
   "execution_count": 11,
   "metadata": {},
   "outputs": [
    {
     "data": {
      "application/vnd.jupyter.widget-view+json": {
       "model_id": "48d402fe86e248deaf3bfeffd0900846",
       "version_major": 2,
       "version_minor": 0
      },
      "text/plain": [
       "Button(description='Download', style=ButtonStyle())"
      ]
     },
     "metadata": {},
     "output_type": "display_data"
    },
    {
     "data": {
      "application/vnd.jupyter.widget-view+json": {
       "model_id": "25df091df5b543d2a55fc9b16e82feeb",
       "version_major": 2,
       "version_minor": 0
      },
      "text/plain": [
       "Output()"
      ]
     },
     "metadata": {},
     "output_type": "display_data"
    }
   ],
   "source": [
    "%run download.py 11"
   ]
  },
  {
   "cell_type": "markdown",
   "metadata": {},
   "source": [
    "## Week 12\n",
    "\n",
    "<div class=\"warning\" style='background-color:#EDF2F7; color:#1A2067; border-left: solid #718096 4px; border-radius: 4px;'>\n",
    "<p style='padding:0.7em; margin-left:0.7em; display: inline-block;'>\n",
    "<img src=\"assets/week12.png\" style=\"zoom:70%;  float:right; padding:0.7em\"/>\n",
    "<br>Dimensionality refers to the number of features in the dataset. Theoretically, more features should mean better models, but this is not true in practice. \n",
    "<br>Too many features could result in spurious correlations, more noise, and slower performance. \n",
    "<br>\n",
    "<br>\n",
    "<b>This week, learn algorithms that can be used to achieve a reduction in dimensionality, such as:</b>\n",
    "<br>\n",
    "<br>&bull; Principal component analysis (PCA)\n",
    "<br>&bull; Multidimensional scaling (MDS)\n",
    "</p>\n",
    "</div>\n",
    "\n",
    "<p style=\"color:red;\">To download all the necessary material, run the cell below and click the button if needed.</p>"
   ]
  },
  {
   "cell_type": "code",
   "execution_count": 12,
   "metadata": {},
   "outputs": [
    {
     "data": {
      "application/vnd.jupyter.widget-view+json": {
       "model_id": "dc697a68d6d146f09dd96d06587d56ea",
       "version_major": 2,
       "version_minor": 0
      },
      "text/plain": [
       "Button(description='Download', style=ButtonStyle())"
      ]
     },
     "metadata": {},
     "output_type": "display_data"
    },
    {
     "data": {
      "application/vnd.jupyter.widget-view+json": {
       "model_id": "86fcdc83c801478cb5527b79180d2033",
       "version_major": 2,
       "version_minor": 0
      },
      "text/plain": [
       "Output()"
      ]
     },
     "metadata": {},
     "output_type": "display_data"
    }
   ],
   "source": [
    "%run download.py 12"
   ]
  }
 ],
 "metadata": {
  "interpreter": {
   "hash": "64f824f3a609aa569ad9c13755964a5d12530faf11196c15fde02015315dad5e"
  },
  "kernelspec": {
   "display_name": "Python 3.7 (Intel® oneAPI)",
   "language": "python",
   "name": "c009-intel_distribution_of_python_3_oneapi-beta05-python"
  },
  "language_info": {
   "codemirror_mode": {
    "name": "ipython",
    "version": 3
   },
   "file_extension": ".py",
   "mimetype": "text/x-python",
   "name": "python",
   "nbconvert_exporter": "python",
   "pygments_lexer": "ipython3",
   "version": "3.9.7"
  }
 },
 "nbformat": 4,
 "nbformat_minor": 4
}
